{
  "nbformat": 4,
  "nbformat_minor": 0,
  "metadata": {
    "colab": {
      "name": "Training_notebook.ipynb",
      "provenance": [],
      "collapsed_sections": []
    },
    "kernelspec": {
      "name": "python3",
      "display_name": "Python 3"
    },
    "language_info": {
      "name": "python"
    }
  },
  "cells": [
    {
      "cell_type": "code",
      "metadata": {
        "id": "uj44iPM8L8Wg"
      },
      "source": [
        "import json\n",
        "import pandas as pd"
      ],
      "execution_count": null,
      "outputs": []
    },
    {
      "cell_type": "code",
      "metadata": {
        "id": "St7gXBJPtaDh"
      },
      "source": [
        "counter = 0\n",
        "data_loading_bay = {\"avg_borrowRate\" : [], \"avg_amount_borrowed\" : [], \"num_borrows\" : [], \"num_prev_defaults\" : [], \"default_this_time\" : []}"
      ],
      "execution_count": 268,
      "outputs": []
    },
    {
      "cell_type": "code",
      "metadata": {
        "colab": {
          "base_uri": "https://localhost:8080/"
        },
        "id": "mNSD5rx-9yAF",
        "outputId": "c5022703-6320-46d9-dae3-ae09a36c23fb"
      },
      "source": [
        "import os"
      ],
      "execution_count": 261,
      "outputs": [
        {
          "output_type": "stream",
          "name": "stdout",
          "text": [
            "  % Total    % Received % Xferd  Average Speed   Time    Time     Time  Current\n",
            "                                 Dload  Upload   Total   Spent    Left  Speed\n",
            "100 1057k    0 1056k  100   176   304k     50  0:00:03  0:00:03 --:--:--  304k\n"
          ]
        }
      ]
    },
    {
      "cell_type": "code",
      "metadata": {
        "colab": {
          "base_uri": "https://localhost:8080/"
        },
        "id": "B6EXWx-wv5KV",
        "outputId": "ebc02cac-c74a-475c-beb9-5e8c53c6f6c0"
      },
      "source": [
        "!curl --location --request POST 'https://api.thegraph.com/subgraphs/name/aave/protocol-v2'  --data-raw '{\"query\":\"{users(where: {borrowedReservesCount_gte: 1}, first: 1000, skip: 000) {borrowHistory { borrowRate, borrowRateMode, amount, id}, liquidationCallHistory {collateralAmount, id}}}\"}' > data.txt"
      ],
      "execution_count": 440,
      "outputs": [
        {
          "output_type": "stream",
          "name": "stdout",
          "text": [
            "  % Total    % Received % Xferd  Average Speed   Time    Time     Time  Current\n",
            "                                 Dload  Upload   Total   Spent    Left  Speed\n",
            "100 1047k    0 1047k  100   188   444k     79  0:00:02  0:00:02 --:--:--  444k\n"
          ]
        }
      ]
    },
    {
      "cell_type": "code",
      "metadata": {
        "id": "r3uarZe0IuGr"
      },
      "source": [
        "# counter = 0\n",
        "# data_loading_bay = {\"avg_borrowRate\" : [], \"avg_amount_borrowed\" : [], \"num_borrows\" : [], \"num_prev_defaults\" : [], \"default_this_time\" : []}\n",
        "\n",
        "with open(\"data.txt\") as json_file:\n",
        "  all_data = json.load(json_file)\n",
        "  data = all_data[\"data\"]\n",
        "  for user in data[\"users\"]:\n",
        "    if user[\"borrowHistory\"] != []:\n",
        "      num_borrows = 0\n",
        "      total_amount = 0\n",
        "      total_borrowRate = 0\n",
        "      num_prev_defaults = 0\n",
        "      for borrow in user[\"borrowHistory\"]:\n",
        "        num_borrows += 1\n",
        "        total_amount += int(borrow[\"amount\"])\n",
        "        total_borrowRate += int(borrow[\"borrowRate\"])\n",
        "        last_borrow_id = borrow[\"id\"]\n",
        "      if user[\"liquidationCallHistory\"] != []:\n",
        "        for default in user[\"liquidationCallHistory\"]:\n",
        "          num_prev_defaults = 0\n",
        "          for _ in user[\"liquidationCallHistory\"]:\n",
        "            num_prev_defaults += 1\n",
        "          # if default[\"id\"] == last_borrow_id:\n",
        "            default_this_time = 1\n",
        "            # num_prev_defaults -= 1\n",
        "          # else:\n",
        "          #   default_this_time = 0\n",
        "      else:\n",
        "        prev_defaults = 0\n",
        "        default_this_time = 0\n",
        "\n",
        "      data_loading_bay[\"avg_borrowRate\"].append(total_borrowRate / num_borrows)\n",
        "      data_loading_bay[\"avg_amount_borrowed\"].append(total_amount / num_borrows)\n",
        "      data_loading_bay[\"num_borrows\"].append(num_borrows)\n",
        "      data_loading_bay[\"num_prev_defaults\"].append(num_prev_defaults)\n",
        "      data_loading_bay[\"default_this_time\"].append(default_this_time)"
      ],
      "execution_count": 282,
      "outputs": []
    },
    {
      "cell_type": "code",
      "metadata": {
        "id": "Jg2I2cznaVZE"
      },
      "source": [
        "nums = []\n",
        "for num, thing in enumerate(data_loading_bay[\"default_this_time\"]):\n",
        "  if thing == 1:\n",
        "    nums.append(num)"
      ],
      "execution_count": 314,
      "outputs": []
    },
    {
      "cell_type": "code",
      "metadata": {
        "id": "ZrCf6ifAI_Nt"
      },
      "source": [
        "df = pd.DataFrame(data_loading_bay)  \n"
      ],
      "execution_count": 315,
      "outputs": []
    },
    {
      "cell_type": "code",
      "metadata": {
        "id": "m0-so4Kvzwn3"
      },
      "source": [
        "for num in nums:\n",
        "  data_loading_bay[\"avg_borrowRate\"].append(df.iloc[num][\"avg_borrowRate\"])\n",
        "  data_loading_bay[\"avg_amount_borrowed\"].append(df.iloc[num][\"avg_borrowRate\"])\n",
        "  data_loading_bay[\"num_borrows\"].append(df.iloc[num][\"num_borrows\"])\n",
        "  data_loading_bay[\"num_prev_defaults\"].append(df.iloc[num][\"num_prev_defaults\"])\n",
        "  data_loading_bay[\"default_this_time\"].append(df.iloc[num][\"default_this_time\"])"
      ],
      "execution_count": 316,
      "outputs": []
    },
    {
      "cell_type": "code",
      "metadata": {
        "id": "9Wm6_XUV0hvq"
      },
      "source": [
        "df = pd.DataFrame(data_loading_bay)  "
      ],
      "execution_count": 318,
      "outputs": []
    },
    {
      "cell_type": "code",
      "metadata": {
        "id": "PwkxVIp8q9L7"
      },
      "source": [
        "from sklearn.model_selection import train_test_split\n",
        "\n",
        "train, test = train_test_split(df, test_size=0.2)"
      ],
      "execution_count": 287,
      "outputs": []
    },
    {
      "cell_type": "code",
      "metadata": {
        "colab": {
          "base_uri": "https://localhost:8080/"
        },
        "id": "PscDw4ALrORR",
        "outputId": "52e63d04-b609-4f6a-e0b6-8a8417fc50ba"
      },
      "source": [
        "type(test)"
      ],
      "execution_count": 288,
      "outputs": [
        {
          "output_type": "execute_result",
          "data": {
            "text/plain": [
              "pandas.core.frame.DataFrame"
            ]
          },
          "metadata": {},
          "execution_count": 288
        }
      ]
    },
    {
      "cell_type": "code",
      "metadata": {
        "colab": {
          "base_uri": "https://localhost:8080/",
          "height": 824
        },
        "id": "9GOBXApneidx",
        "outputId": "4aecbc00-a408-42e7-b8c3-c9de825a263e"
      },
      "source": [
        "df.head(25)"
      ],
      "execution_count": 295,
      "outputs": [
        {
          "output_type": "execute_result",
          "data": {
            "text/html": [
              "<div>\n",
              "<style scoped>\n",
              "    .dataframe tbody tr th:only-of-type {\n",
              "        vertical-align: middle;\n",
              "    }\n",
              "\n",
              "    .dataframe tbody tr th {\n",
              "        vertical-align: top;\n",
              "    }\n",
              "\n",
              "    .dataframe thead th {\n",
              "        text-align: right;\n",
              "    }\n",
              "</style>\n",
              "<table border=\"1\" class=\"dataframe\">\n",
              "  <thead>\n",
              "    <tr style=\"text-align: right;\">\n",
              "      <th></th>\n",
              "      <th>avg_borrowRate</th>\n",
              "      <th>avg_amount_borrowed</th>\n",
              "      <th>num_borrows</th>\n",
              "      <th>num_prev_defaults</th>\n",
              "      <th>default_this_time</th>\n",
              "    </tr>\n",
              "  </thead>\n",
              "  <tbody>\n",
              "    <tr>\n",
              "      <th>0</th>\n",
              "      <td>4.022107e+27</td>\n",
              "      <td>3.146592e+12</td>\n",
              "      <td>5.0</td>\n",
              "      <td>0.0</td>\n",
              "      <td>0.0</td>\n",
              "    </tr>\n",
              "    <tr>\n",
              "      <th>1</th>\n",
              "      <td>2.988879e+25</td>\n",
              "      <td>4.415837e+23</td>\n",
              "      <td>24.0</td>\n",
              "      <td>0.0</td>\n",
              "      <td>0.0</td>\n",
              "    </tr>\n",
              "    <tr>\n",
              "      <th>2</th>\n",
              "      <td>6.512855e+25</td>\n",
              "      <td>8.333333e+20</td>\n",
              "      <td>12.0</td>\n",
              "      <td>0.0</td>\n",
              "      <td>0.0</td>\n",
              "    </tr>\n",
              "    <tr>\n",
              "      <th>3</th>\n",
              "      <td>1.745664e+25</td>\n",
              "      <td>2.000333e+21</td>\n",
              "      <td>3.0</td>\n",
              "      <td>0.0</td>\n",
              "      <td>0.0</td>\n",
              "    </tr>\n",
              "    <tr>\n",
              "      <th>4</th>\n",
              "      <td>4.045680e+25</td>\n",
              "      <td>2.432000e+10</td>\n",
              "      <td>5.0</td>\n",
              "      <td>0.0</td>\n",
              "      <td>0.0</td>\n",
              "    </tr>\n",
              "    <tr>\n",
              "      <th>5</th>\n",
              "      <td>6.499739e+25</td>\n",
              "      <td>7.818090e+08</td>\n",
              "      <td>1.0</td>\n",
              "      <td>0.0</td>\n",
              "      <td>0.0</td>\n",
              "    </tr>\n",
              "    <tr>\n",
              "      <th>6</th>\n",
              "      <td>8.413078e+25</td>\n",
              "      <td>5.000000e+19</td>\n",
              "      <td>3.0</td>\n",
              "      <td>0.0</td>\n",
              "      <td>0.0</td>\n",
              "    </tr>\n",
              "    <tr>\n",
              "      <th>7</th>\n",
              "      <td>4.797732e+25</td>\n",
              "      <td>6.406079e+21</td>\n",
              "      <td>5.0</td>\n",
              "      <td>2.0</td>\n",
              "      <td>1.0</td>\n",
              "    </tr>\n",
              "    <tr>\n",
              "      <th>8</th>\n",
              "      <td>3.146838e+25</td>\n",
              "      <td>3.500035e+20</td>\n",
              "      <td>5.0</td>\n",
              "      <td>0.0</td>\n",
              "      <td>0.0</td>\n",
              "    </tr>\n",
              "    <tr>\n",
              "      <th>9</th>\n",
              "      <td>1.588266e+26</td>\n",
              "      <td>2.322080e+21</td>\n",
              "      <td>24.0</td>\n",
              "      <td>17.0</td>\n",
              "      <td>1.0</td>\n",
              "    </tr>\n",
              "    <tr>\n",
              "      <th>10</th>\n",
              "      <td>3.908406e+25</td>\n",
              "      <td>4.439754e+21</td>\n",
              "      <td>1.0</td>\n",
              "      <td>0.0</td>\n",
              "      <td>0.0</td>\n",
              "    </tr>\n",
              "    <tr>\n",
              "      <th>11</th>\n",
              "      <td>3.320360e+25</td>\n",
              "      <td>1.560000e+10</td>\n",
              "      <td>1.0</td>\n",
              "      <td>0.0</td>\n",
              "      <td>0.0</td>\n",
              "    </tr>\n",
              "    <tr>\n",
              "      <th>12</th>\n",
              "      <td>6.805584e+25</td>\n",
              "      <td>4.745588e+10</td>\n",
              "      <td>17.0</td>\n",
              "      <td>0.0</td>\n",
              "      <td>0.0</td>\n",
              "    </tr>\n",
              "    <tr>\n",
              "      <th>13</th>\n",
              "      <td>6.908275e+25</td>\n",
              "      <td>1.125000e+12</td>\n",
              "      <td>2.0</td>\n",
              "      <td>0.0</td>\n",
              "      <td>0.0</td>\n",
              "    </tr>\n",
              "    <tr>\n",
              "      <th>14</th>\n",
              "      <td>7.309913e+25</td>\n",
              "      <td>3.216463e+21</td>\n",
              "      <td>37.0</td>\n",
              "      <td>0.0</td>\n",
              "      <td>0.0</td>\n",
              "    </tr>\n",
              "    <tr>\n",
              "      <th>15</th>\n",
              "      <td>3.120667e+25</td>\n",
              "      <td>1.405292e+09</td>\n",
              "      <td>1.0</td>\n",
              "      <td>0.0</td>\n",
              "      <td>0.0</td>\n",
              "    </tr>\n",
              "    <tr>\n",
              "      <th>16</th>\n",
              "      <td>3.932636e+25</td>\n",
              "      <td>5.500000e+08</td>\n",
              "      <td>1.0</td>\n",
              "      <td>0.0</td>\n",
              "      <td>0.0</td>\n",
              "    </tr>\n",
              "    <tr>\n",
              "      <th>17</th>\n",
              "      <td>3.595863e+25</td>\n",
              "      <td>3.154609e+10</td>\n",
              "      <td>3.0</td>\n",
              "      <td>0.0</td>\n",
              "      <td>0.0</td>\n",
              "    </tr>\n",
              "    <tr>\n",
              "      <th>18</th>\n",
              "      <td>4.779197e+25</td>\n",
              "      <td>1.090909e+22</td>\n",
              "      <td>11.0</td>\n",
              "      <td>0.0</td>\n",
              "      <td>0.0</td>\n",
              "    </tr>\n",
              "    <tr>\n",
              "      <th>19</th>\n",
              "      <td>3.278978e+25</td>\n",
              "      <td>1.300000e+10</td>\n",
              "      <td>1.0</td>\n",
              "      <td>0.0</td>\n",
              "      <td>0.0</td>\n",
              "    </tr>\n",
              "    <tr>\n",
              "      <th>20</th>\n",
              "      <td>6.074538e+25</td>\n",
              "      <td>4.444444e+21</td>\n",
              "      <td>9.0</td>\n",
              "      <td>0.0</td>\n",
              "      <td>0.0</td>\n",
              "    </tr>\n",
              "    <tr>\n",
              "      <th>21</th>\n",
              "      <td>3.402433e+25</td>\n",
              "      <td>2.917667e+09</td>\n",
              "      <td>6.0</td>\n",
              "      <td>0.0</td>\n",
              "      <td>0.0</td>\n",
              "    </tr>\n",
              "    <tr>\n",
              "      <th>22</th>\n",
              "      <td>3.614584e+25</td>\n",
              "      <td>5.050000e+17</td>\n",
              "      <td>2.0</td>\n",
              "      <td>0.0</td>\n",
              "      <td>0.0</td>\n",
              "    </tr>\n",
              "    <tr>\n",
              "      <th>23</th>\n",
              "      <td>3.583847e+25</td>\n",
              "      <td>2.000000e+18</td>\n",
              "      <td>1.0</td>\n",
              "      <td>0.0</td>\n",
              "      <td>0.0</td>\n",
              "    </tr>\n",
              "    <tr>\n",
              "      <th>24</th>\n",
              "      <td>3.607494e+25</td>\n",
              "      <td>2.142857e+22</td>\n",
              "      <td>7.0</td>\n",
              "      <td>0.0</td>\n",
              "      <td>0.0</td>\n",
              "    </tr>\n",
              "  </tbody>\n",
              "</table>\n",
              "</div>"
            ],
            "text/plain": [
              "    avg_borrowRate  avg_amount_borrowed  ...  num_prev_defaults  default_this_time\n",
              "0     4.022107e+27         3.146592e+12  ...                0.0                0.0\n",
              "1     2.988879e+25         4.415837e+23  ...                0.0                0.0\n",
              "2     6.512855e+25         8.333333e+20  ...                0.0                0.0\n",
              "3     1.745664e+25         2.000333e+21  ...                0.0                0.0\n",
              "4     4.045680e+25         2.432000e+10  ...                0.0                0.0\n",
              "5     6.499739e+25         7.818090e+08  ...                0.0                0.0\n",
              "6     8.413078e+25         5.000000e+19  ...                0.0                0.0\n",
              "7     4.797732e+25         6.406079e+21  ...                2.0                1.0\n",
              "8     3.146838e+25         3.500035e+20  ...                0.0                0.0\n",
              "9     1.588266e+26         2.322080e+21  ...               17.0                1.0\n",
              "10    3.908406e+25         4.439754e+21  ...                0.0                0.0\n",
              "11    3.320360e+25         1.560000e+10  ...                0.0                0.0\n",
              "12    6.805584e+25         4.745588e+10  ...                0.0                0.0\n",
              "13    6.908275e+25         1.125000e+12  ...                0.0                0.0\n",
              "14    7.309913e+25         3.216463e+21  ...                0.0                0.0\n",
              "15    3.120667e+25         1.405292e+09  ...                0.0                0.0\n",
              "16    3.932636e+25         5.500000e+08  ...                0.0                0.0\n",
              "17    3.595863e+25         3.154609e+10  ...                0.0                0.0\n",
              "18    4.779197e+25         1.090909e+22  ...                0.0                0.0\n",
              "19    3.278978e+25         1.300000e+10  ...                0.0                0.0\n",
              "20    6.074538e+25         4.444444e+21  ...                0.0                0.0\n",
              "21    3.402433e+25         2.917667e+09  ...                0.0                0.0\n",
              "22    3.614584e+25         5.050000e+17  ...                0.0                0.0\n",
              "23    3.583847e+25         2.000000e+18  ...                0.0                0.0\n",
              "24    3.607494e+25         2.142857e+22  ...                0.0                0.0\n",
              "\n",
              "[25 rows x 5 columns]"
            ]
          },
          "metadata": {},
          "execution_count": 295
        }
      ]
    },
    {
      "cell_type": "code",
      "metadata": {
        "colab": {
          "base_uri": "https://localhost:8080/",
          "height": 297
        },
        "id": "oJthNz0dLn2L",
        "outputId": "21229f93-0e73-46bf-f99e-123641054543"
      },
      "source": [
        "df.describe()"
      ],
      "execution_count": 319,
      "outputs": [
        {
          "output_type": "execute_result",
          "data": {
            "text/html": [
              "<div>\n",
              "<style scoped>\n",
              "    .dataframe tbody tr th:only-of-type {\n",
              "        vertical-align: middle;\n",
              "    }\n",
              "\n",
              "    .dataframe tbody tr th {\n",
              "        vertical-align: top;\n",
              "    }\n",
              "\n",
              "    .dataframe thead th {\n",
              "        text-align: right;\n",
              "    }\n",
              "</style>\n",
              "<table border=\"1\" class=\"dataframe\">\n",
              "  <thead>\n",
              "    <tr style=\"text-align: right;\">\n",
              "      <th></th>\n",
              "      <th>avg_borrowRate</th>\n",
              "      <th>avg_amount_borrowed</th>\n",
              "      <th>num_borrows</th>\n",
              "      <th>num_prev_defaults</th>\n",
              "      <th>default_this_time</th>\n",
              "    </tr>\n",
              "  </thead>\n",
              "  <tbody>\n",
              "    <tr>\n",
              "      <th>count</th>\n",
              "      <td>8.457000e+03</td>\n",
              "      <td>8.457000e+03</td>\n",
              "      <td>8457.000000</td>\n",
              "      <td>8457.000000</td>\n",
              "      <td>8457.000000</td>\n",
              "    </tr>\n",
              "    <tr>\n",
              "      <th>mean</th>\n",
              "      <td>8.579828e+25</td>\n",
              "      <td>2.828802e+25</td>\n",
              "      <td>7.509992</td>\n",
              "      <td>1.540026</td>\n",
              "      <td>0.390682</td>\n",
              "    </tr>\n",
              "    <tr>\n",
              "      <th>std</th>\n",
              "      <td>2.290855e+26</td>\n",
              "      <td>5.655418e+25</td>\n",
              "      <td>14.241412</td>\n",
              "      <td>3.979588</td>\n",
              "      <td>0.487932</td>\n",
              "    </tr>\n",
              "    <tr>\n",
              "      <th>min</th>\n",
              "      <td>2.099765e+18</td>\n",
              "      <td>2.000000e+00</td>\n",
              "      <td>1.000000</td>\n",
              "      <td>0.000000</td>\n",
              "      <td>0.000000</td>\n",
              "    </tr>\n",
              "    <tr>\n",
              "      <th>25%</th>\n",
              "      <td>3.675679e+25</td>\n",
              "      <td>1.500000e+10</td>\n",
              "      <td>1.000000</td>\n",
              "      <td>0.000000</td>\n",
              "      <td>0.000000</td>\n",
              "    </tr>\n",
              "    <tr>\n",
              "      <th>50%</th>\n",
              "      <td>5.749018e+25</td>\n",
              "      <td>1.000000e+21</td>\n",
              "      <td>3.000000</td>\n",
              "      <td>0.000000</td>\n",
              "      <td>0.000000</td>\n",
              "    </tr>\n",
              "    <tr>\n",
              "      <th>75%</th>\n",
              "      <td>1.049800e+26</td>\n",
              "      <td>3.781362e+25</td>\n",
              "      <td>7.000000</td>\n",
              "      <td>1.000000</td>\n",
              "      <td>1.000000</td>\n",
              "    </tr>\n",
              "    <tr>\n",
              "      <th>max</th>\n",
              "      <td>1.143326e+28</td>\n",
              "      <td>6.302557e+26</td>\n",
              "      <td>100.000000</td>\n",
              "      <td>53.000000</td>\n",
              "      <td>1.000000</td>\n",
              "    </tr>\n",
              "  </tbody>\n",
              "</table>\n",
              "</div>"
            ],
            "text/plain": [
              "       avg_borrowRate  ...  default_this_time\n",
              "count    8.457000e+03  ...        8457.000000\n",
              "mean     8.579828e+25  ...           0.390682\n",
              "std      2.290855e+26  ...           0.487932\n",
              "min      2.099765e+18  ...           0.000000\n",
              "25%      3.675679e+25  ...           0.000000\n",
              "50%      5.749018e+25  ...           0.000000\n",
              "75%      1.049800e+26  ...           1.000000\n",
              "max      1.143326e+28  ...           1.000000\n",
              "\n",
              "[8 rows x 5 columns]"
            ]
          },
          "metadata": {},
          "execution_count": 319
        }
      ]
    },
    {
      "cell_type": "code",
      "metadata": {
        "id": "tyuUmF2Bduio"
      },
      "source": [
        "from fastai import *\n",
        "from fastai.tabular.data import *"
      ],
      "execution_count": 320,
      "outputs": []
    },
    {
      "cell_type": "code",
      "metadata": {
        "id": "dgK8AfhQd6TS"
      },
      "source": [
        "cont_names = df.columns"
      ],
      "execution_count": 344,
      "outputs": []
    },
    {
      "cell_type": "code",
      "metadata": {
        "id": "zUarfwsMeQCy"
      },
      "source": [
        "contt = []\n",
        "for x in cont_names:\n",
        "  contt.append(x)"
      ],
      "execution_count": 345,
      "outputs": []
    },
    {
      "cell_type": "code",
      "metadata": {
        "colab": {
          "base_uri": "https://localhost:8080/"
        },
        "id": "HWfdAaLveZeK",
        "outputId": "5d31feeb-6e32-4159-80d8-f3cfdd436a3b"
      },
      "source": [
        "contt"
      ],
      "execution_count": 346,
      "outputs": [
        {
          "output_type": "execute_result",
          "data": {
            "text/plain": [
              "['avg_borrowRate',\n",
              " 'avg_amount_borrowed',\n",
              " 'num_borrows',\n",
              " 'num_prev_defaults',\n",
              " 'default_this_time']"
            ]
          },
          "metadata": {},
          "execution_count": 346
        }
      ]
    },
    {
      "cell_type": "code",
      "metadata": {
        "colab": {
          "base_uri": "https://localhost:8080/",
          "height": 35
        },
        "id": "APaTb44neLMZ",
        "outputId": "c4932c99-61a2-44b2-f0b5-7d8fee32b54c"
      },
      "source": [
        "contt.pop()"
      ],
      "execution_count": 367,
      "outputs": [
        {
          "output_type": "execute_result",
          "data": {
            "application/vnd.google.colaboratory.intrinsic+json": {
              "type": "string"
            },
            "text/plain": [
              "'default_this_time'"
            ]
          },
          "metadata": {},
          "execution_count": 367
        }
      ]
    },
    {
      "cell_type": "code",
      "metadata": {
        "id": "0U6xr1qNet04",
        "colab": {
          "base_uri": "https://localhost:8080/"
        },
        "outputId": "9f3600ff-a98d-4ca2-f1f4-84a17f54400a"
      },
      "source": [
        "contt"
      ],
      "execution_count": 368,
      "outputs": [
        {
          "output_type": "execute_result",
          "data": {
            "text/plain": [
              "['avg_borrowRate', 'avg_amount_borrowed', 'num_borrows', 'num_prev_defaults']"
            ]
          },
          "metadata": {},
          "execution_count": 368
        }
      ]
    },
    {
      "cell_type": "code",
      "metadata": {
        "id": "BXmm-GZPiXvY"
      },
      "source": [
        "from fastai.tabular.all import *"
      ],
      "execution_count": 369,
      "outputs": []
    },
    {
      "cell_type": "code",
      "metadata": {
        "id": "QxO_NBlVkHfs"
      },
      "source": [
        "# data = np.array(contt, dtype=np.float32)"
      ],
      "execution_count": 350,
      "outputs": []
    },
    {
      "cell_type": "code",
      "metadata": {
        "id": "g4XV3vh4dH_T"
      },
      "source": [
        "procs = [Normalize]\n",
        "# fl = FocalLoss()\n",
        "# splits = RandomSplitter(valid_pct=0.2)(range_of(df))\n",
        "dls = TabularDataLoaders.from_df(df = df, procs=procs, cont_names=contt, \n",
        "                                 y_names=\"default_this_time\", \n",
        "                                 bs=64, splits = splits)\n",
        "learn = tabular_learner(dls, metrics=accuracy)"
      ],
      "execution_count": 425,
      "outputs": []
    },
    {
      "cell_type": "code",
      "metadata": {
        "colab": {
          "base_uri": "https://localhost:8080/",
          "height": 204
        },
        "id": "gbomOWOPfS0k",
        "outputId": "533b9edf-218b-4942-bebd-f82fea7de391"
      },
      "source": [
        "learn.fit_one_cycle(5)"
      ],
      "execution_count": 426,
      "outputs": [
        {
          "output_type": "display_data",
          "data": {
            "text/html": [
              "<table border=\"1\" class=\"dataframe\">\n",
              "  <thead>\n",
              "    <tr style=\"text-align: left;\">\n",
              "      <th>epoch</th>\n",
              "      <th>train_loss</th>\n",
              "      <th>valid_loss</th>\n",
              "      <th>accuracy</th>\n",
              "      <th>time</th>\n",
              "    </tr>\n",
              "  </thead>\n",
              "  <tbody>\n",
              "    <tr>\n",
              "      <td>0</td>\n",
              "      <td>0.191890</td>\n",
              "      <td>0.048161</td>\n",
              "      <td>0.608516</td>\n",
              "      <td>00:01</td>\n",
              "    </tr>\n",
              "    <tr>\n",
              "      <td>1</td>\n",
              "      <td>0.036027</td>\n",
              "      <td>0.041775</td>\n",
              "      <td>0.608516</td>\n",
              "      <td>00:01</td>\n",
              "    </tr>\n",
              "    <tr>\n",
              "      <td>2</td>\n",
              "      <td>0.012218</td>\n",
              "      <td>0.083164</td>\n",
              "      <td>0.608516</td>\n",
              "      <td>00:01</td>\n",
              "    </tr>\n",
              "    <tr>\n",
              "      <td>3</td>\n",
              "      <td>0.006769</td>\n",
              "      <td>0.045010</td>\n",
              "      <td>0.608516</td>\n",
              "      <td>00:01</td>\n",
              "    </tr>\n",
              "    <tr>\n",
              "      <td>4</td>\n",
              "      <td>0.005037</td>\n",
              "      <td>0.029467</td>\n",
              "      <td>0.608516</td>\n",
              "      <td>00:01</td>\n",
              "    </tr>\n",
              "  </tbody>\n",
              "</table>"
            ],
            "text/plain": [
              "<IPython.core.display.HTML object>"
            ]
          },
          "metadata": {}
        }
      ]
    },
    {
      "cell_type": "code",
      "metadata": {
        "id": "r3IhrUzsfrQW"
      },
      "source": [
        "pred_data = {\"avg_borrowRate\" : [0], \"avg_amount_borrowed\" : [1], \"num_borrows\" : [10.0], \"num_prev_defaults\" : [1.0], \"default_this_time\" : [1.0]}\n",
        "pred_df = pd.DataFrame(pred_data)\n",
        "pred_df_true = pred_df"
      ],
      "execution_count": 434,
      "outputs": []
    },
    {
      "cell_type": "code",
      "metadata": {
        "id": "7pR_vbQhE3W1"
      },
      "source": [
        "pred_df_true = pred_df_true.squeeze()"
      ],
      "execution_count": 435,
      "outputs": []
    },
    {
      "cell_type": "code",
      "metadata": {
        "colab": {
          "base_uri": "https://localhost:8080/",
          "height": 119
        },
        "id": "gZn24iY3X7Uo",
        "outputId": "7f45c75f-a799-4ec7-baa3-4a0dfaa431b1"
      },
      "source": [
        "learn.predict(pred_df_true)"
      ],
      "execution_count": 436,
      "outputs": [
        {
          "output_type": "display_data",
          "data": {
            "text/html": [
              ""
            ],
            "text/plain": [
              "<IPython.core.display.HTML object>"
            ]
          },
          "metadata": {}
        },
        {
          "output_type": "execute_result",
          "data": {
            "text/plain": [
              "(   avg_borrowRate  avg_amount_borrowed  ...  num_prev_defaults  default_this_time\n",
              " 0            -0.0                 -0.0  ...          -0.135104           0.977199\n",
              " \n",
              " [1 rows x 5 columns],\n",
              " tensor([0.9772]),\n",
              " tensor([0.9772]))"
            ]
          },
          "metadata": {},
          "execution_count": 436
        }
      ]
    },
    {
      "cell_type": "code",
      "metadata": {
        "id": "a_vvVqepYb-c"
      },
      "source": [
        "learn.export(\"testing.pkl\")"
      ],
      "execution_count": 437,
      "outputs": []
    },
    {
      "cell_type": "code",
      "metadata": {
        "id": "Dry_BpO9ifiG",
        "colab": {
          "base_uri": "https://localhost:8080/"
        },
        "outputId": "4d99c8e7-5f3b-4203-cf65-6969eba579f3"
      },
      "source": [
        "!curl --location --request POST 'https://api.thegraph.com/subgraphs/name/aave/protocol-v2'  --data-raw '{\"query\":\"{users(where: {id: \"0x00d5201c4def4d1a199c63e07eac53f43252a0ea\"}) {borrowHistory {borrowRate, borrowRateMode, amount, id, timestamp}, liquidationCallHistory {collateralAmount, id, timestamp}}}\"}'"
      ],
      "execution_count": 441,
      "outputs": [
        {
          "output_type": "stream",
          "name": "stdout",
          "text": [
            "GraphQL server error (client error): expected `,` or `}` at line 1 column 31"
          ]
        }
      ]
    },
    {
      "cell_type": "code",
      "metadata": {
        "colab": {
          "base_uri": "https://localhost:8080/"
        },
        "id": "sfyaUaDYV0S1",
        "outputId": "695ba085-6778-4afb-9f0b-890a235770a6"
      },
      "source": [
        "!curl --location --request POST 'https://api.thegraph.com/subgraphs/name/aave/protocol-v2'  --data-raw '{\"query\":\"\"}'"
      ],
      "execution_count": 444,
      "outputs": [
        {
          "output_type": "stream",
          "name": "stdout",
          "text": [
            "GraphQL server error (client error): expected `,` or `}` at line 1 column 31"
          ]
        }
      ]
    },
    {
      "cell_type": "code",
      "metadata": {
        "colab": {
          "base_uri": "https://localhost:8080/",
          "height": 269
        },
        "id": "6r_Qd_7pXVbF",
        "outputId": "0a5bed30-c8d8-4b87-fd0b-0ac5dce06be3"
      },
      "source": [
        "os.system(\"\"\"curl --location --request POST 'https://api.thegraph.com/subgraphs/name/aave/protocol-v2'  --data-raw '{\"query\":\"{users(where: {id: {}}, first: 1000, skip: 5000) {borrowHistory { borrowRate, borrowRateMode, amount, id}, liquidationCallHistory {collateralAmount, id}}}\"}'\"\"\").format(\"0x00d5201c4def4d1a199c63e07eac53f43252a0ea\")"
      ],
      "execution_count": 470,
      "outputs": [
        {
          "output_type": "stream",
          "name": "stderr",
          "text": [
            "  % Total    % Received % Xferd  Average Speed   Time    Time     Time  Current\n",
            "                                 Dload  Upload   Total   Spent    Left  Speed\n",
            "\r  0     0    0     0    0     0      0      0 --:--:-- --:--:-- --:--:--     0"
          ]
        },
        {
          "output_type": "stream",
          "name": "stdout",
          "text": [
            "{\"errors\":[{\"locations\":[{\"line\":0,\"column\":0}],\"message\":\"Invalid value provided for argument `where`: Object({\\\"id\\\": Object({})})\"}]}"
          ]
        },
        {
          "output_type": "stream",
          "name": "stderr",
          "text": [
            "\r100   302    0   136  100   166    607    741 --:--:-- --:--:-- --:--:--  1354\n"
          ]
        },
        {
          "output_type": "error",
          "ename": "AttributeError",
          "evalue": "ignored",
          "traceback": [
            "\u001b[0;31m---------------------------------------------------------------------------\u001b[0m",
            "\u001b[0;31mAttributeError\u001b[0m                            Traceback (most recent call last)",
            "\u001b[0;32m/tmp/ipykernel_868/3875917101.py\u001b[0m in \u001b[0;36m<module>\u001b[0;34m\u001b[0m\n\u001b[0;32m----> 1\u001b[0;31m \u001b[0mos\u001b[0m\u001b[0;34m.\u001b[0m\u001b[0msystem\u001b[0m\u001b[0;34m(\u001b[0m\u001b[0;34m\"\"\"curl --location --request POST 'https://api.thegraph.com/subgraphs/name/aave/protocol-v2'  --data-raw '{\"query\":\"{users(where: {id: {}}, first: 1000, skip: 5000) {borrowHistory { borrowRate, borrowRateMode, amount, id}, liquidationCallHistory {collateralAmount, id}}}\"}'\"\"\"\u001b[0m\u001b[0;34m)\u001b[0m\u001b[0;34m.\u001b[0m\u001b[0mformat\u001b[0m\u001b[0;34m(\u001b[0m\u001b[0;34m\"0x00d5201c4def4d1a199c63e07eac53f43252a0ea\"\u001b[0m\u001b[0;34m)\u001b[0m\u001b[0;34m\u001b[0m\u001b[0;34m\u001b[0m\u001b[0m\n\u001b[0m",
            "\u001b[0;31mAttributeError\u001b[0m: 'int' object has no attribute 'format'"
          ]
        }
      ]
    },
    {
      "cell_type": "code",
      "metadata": {
        "colab": {
          "base_uri": "https://localhost:8080/"
        },
        "id": "BNJ48jW7dye1",
        "outputId": "7fefc1cb-ed84-4fb7-f61f-46cf73bf16e0"
      },
      "source": [
        "!curl --location --request POST 'https://api.thegraph.com/subgraphs/name/aave/protocol-v2'  --data-raw '{\\\"query\\\":\\\"{users(where: {id: \"0x00d5201c4def4d1a199c63e07eac53f43252a0ea\"}, first: 1000, skip: 5000) {borrowHistory { borrowRate, borrowRateMode, amount, id}, liquidationCallHistory {collateralAmount, id}}}\\\"}'"
      ],
      "execution_count": 505,
      "outputs": [
        {
          "output_type": "stream",
          "name": "stdout",
          "text": [
            "GraphQL server error (client error): key must be a string at line 1 column 2"
          ]
        }
      ]
    },
    {
      "cell_type": "code",
      "metadata": {
        "colab": {
          "base_uri": "https://localhost:8080/"
        },
        "id": "VZAd7KGtYZk6",
        "outputId": "63df6844-f680-4373-9e20-db53e7ef70f2"
      },
      "source": [
        "os.system(cmd)"
      ],
      "execution_count": 500,
      "outputs": [
        {
          "output_type": "stream",
          "name": "stderr",
          "text": [
            "  % Total    % Received % Xferd  Average Speed   Time    Time     Time  Current\n",
            "                                 Dload  Upload   Total   Spent    Left  Speed\n",
            "\r  0     0    0     0    0     0      0      0 --:--:-- --:--:-- --:--:--     0"
          ]
        },
        {
          "output_type": "stream",
          "name": "stdout",
          "text": [
            "GraphQL server error (client error): expected `,` or `}` at line 1 column 31"
          ]
        },
        {
          "output_type": "stream",
          "name": "stderr",
          "text": [
            "\r100   284  100    76  100   208    337    924 --:--:-- --:--:-- --:--:--  1262\n"
          ]
        },
        {
          "output_type": "execute_result",
          "data": {
            "text/plain": [
              "0"
            ]
          },
          "metadata": {},
          "execution_count": 500
        }
      ]
    },
    {
      "cell_type": "code",
      "metadata": {
        "colab": {
          "base_uri": "https://localhost:8080/"
        },
        "id": "XkojvAHNdj6H",
        "outputId": "689f273b-3f9e-4303-fbb4-dc3661a84a2c"
      },
      "source": [
        "!curl 'https://api.thegraph.com/subgraphs/name/aave/protocol-v2' -H 'Accept-Encoding: gzip, deflate, br' -H 'Content-Type: application/json' -H 'Accept: application/json' -H 'Connection: keep-alive' -H 'Origin: altair://-' --data-binary '{\"query\":\"query MyQuery {\\n  users(where: {id: \\\"0x00d5201c4def4d1a199c63e07eac53f43252a0ea\\\"}) {\\n    borrowHistory {\\n      borrowRate\\n      borrowRateMode\\n      amount\\n      id\\n      timestamp\\n    }\\n    liquidationCallHistory {\\n      collateralAmount\\n      id\\n      timestamp\\n    }\\n  }\\n}\\n\",\"variables\":{}}' --compressed"
      ],
      "execution_count": 506,
      "outputs": [
        {
          "output_type": "stream",
          "name": "stdout",
          "text": [
            "curl: (61) Unrecognized content encoding type. libcurl understands deflate, gzip content encodings.\n"
          ]
        }
      ]
    },
    {
      "cell_type": "code",
      "metadata": {
        "colab": {
          "base_uri": "https://localhost:8080/"
        },
        "id": "0xLJWmdPi-qB",
        "outputId": "6792ac81-a32a-4d19-ff20-1d0acfa3815a"
      },
      "source": [
        "!curl 'https://api.thegraph.com/subgraphs/name/aave/protocol-v2' --data-binary '{\"query\":\"query MyQuery {\\n users(where: {id: \\\"0x00d5201c4def4d1a199c63e07eac53f43252a0ea\\\"}) {\\n borrowHistory {\\n borrowRate \\n borrowRateMode \\n amount \\n id \\n timestamp\\n }\\n liquidationCallHistory {\\n collateralAmount \\n id \\n timestamp \\n } \\n} \\n} \\n\",\"variables\":{}}'"
      ],
      "execution_count": 514,
      "outputs": [
        {
          "output_type": "stream",
          "name": "stdout",
          "text": [
            "{\"data\":{\"users\":[{\"borrowHistory\":[{\"amount\":\"2300000000000000000000\",\"borrowRate\":\"203276729954722025385388386\",\"borrowRateMode\":\"Variable\",\"id\":\"0x2da6f59d3c184ed67fdd6409e6af958d501841bac6959f9dcefe2911cba474c8:2\",\"timestamp\":1611173341},{\"amount\":\"2500000000\",\"borrowRate\":\"292139278555399625939753728\",\"borrowRateMode\":\"Variable\",\"id\":\"0xb795b22647fab25892aa93251e67f15dd79d60808cd2d6621cfe19d0a5a1a20a:2\",\"timestamp\":1611514928},{\"amount\":\"3026975203\",\"borrowRate\":\"233165876824895542454053294\",\"borrowRateMode\":\"Variable\",\"id\":\"0xeed91838c6be0c8494f5dc74430378a0901d6d8f9e0bcc83c808863011875137:2\",\"timestamp\":1613421056}],\"liquidationCallHistory\":[{\"collateralAmount\":\"148435097485258850381\",\"id\":\"0x1ab7749f417bc5241110f4623f4903da7cf52371a1ba36046883be98c0cef381:8\",\"timestamp\":1621757194},{\"collateralAmount\":\"44014590113358178953\",\"id\":\"0x4bac6e47d9c5938a1afdff02800b25ba366bed39036d8f0f3da975d913fe8a4b:8\",\"timestamp\":1624340607},{\"collateralAmount\":\"70483069086552888430\",\"id\":\"0x4eb05646b8dd522fc01cfd7abd0076f1cd3441f011a6932d8b86dd86f155d5bb:8\",\"timestamp\":1624267436},{\"collateralAmount\":\"22979215844393898138\",\"id\":\"0x7020b0a23142639cf18d061f205deba27a49ec0b8ee2d4ef3ce696b34bf9e532:8\",\"timestamp\":1626723737},{\"collateralAmount\":\"39781668011341161254\",\"id\":\"0x7e82bb5f005efc2ee7c110351462bb235176b193194566dcf7616448d01f7783:8\",\"timestamp\":1624402364},{\"collateralAmount\":\"91346978060060572030\",\"id\":\"0x86d34620b3fb0f0a5d77fb68e404c130a516477797d8bb5593db32d7c3311256:8\",\"timestamp\":1621796869},{\"collateralAmount\":\"25684023099202615487\",\"id\":\"0xa5915c14ba20f234c1afbaa3a73c40ffa47e925f88d455789e27feb22f3fb472:8\",\"timestamp\":1626429570}]}]}}"
          ]
        }
      ]
    },
    {
      "cell_type": "code",
      "metadata": {
        "id": "q07q74lWm0hu"
      },
      "source": [
        "cmd = \"\"\"curl 'https://api.thegraph.com/subgraphs/name/aave/protocol-v2' --data-binary '{\"query\":\"query MyQuery {\\n users(where: {id: \\\"0x00d5201c4def4d1a199c63e07eac53f43252a0ea\\\"}) {\\n borrowHistory {\\n borrowRate \\n borrowRateMode \\n amount \\n id \\n timestamp\\n }\\n liquidationCallHistory {\\n collateralAmount \\n id \\n timestamp \\n } \\n} \\n} \\n\"}'\"\"\""
      ],
      "execution_count": 524,
      "outputs": []
    },
    {
      "cell_type": "code",
      "metadata": {
        "colab": {
          "base_uri": "https://localhost:8080/"
        },
        "id": "NP64YOVdjGl3",
        "outputId": "974f5db7-8c63-43c9-a791-f03cf7a33ec5"
      },
      "source": [
        "os.system(cmd)"
      ],
      "execution_count": 525,
      "outputs": [
        {
          "output_type": "stream",
          "name": "stderr",
          "text": [
            "  % Total    % Received % Xferd  Average Speed   Time    Time     Time  Current\n",
            "                                 Dload  Upload   Total   Spent    Left  Speed\n",
            "\r  0     0    0     0    0     0      0      0 --:--:-- --:--:-- --:--:--     0"
          ]
        },
        {
          "output_type": "stream",
          "name": "stdout",
          "text": [
            "GraphQL server error (client error): control character (\\u0000-\\u001F) found while parsing a string at line 2 column 0"
          ]
        },
        {
          "output_type": "stream",
          "name": "stderr",
          "text": [
            "\r100   361  100   118  100   243    543   1119 --:--:-- --:--:-- --:--:--  1663\n"
          ]
        },
        {
          "output_type": "execute_result",
          "data": {
            "text/plain": [
              "0"
            ]
          },
          "metadata": {},
          "execution_count": 525
        }
      ]
    },
    {
      "cell_type": "code",
      "metadata": {
        "id": "Kz5eVN5PlQha"
      },
      "source": [
        "import subprocess"
      ],
      "execution_count": 519,
      "outputs": []
    },
    {
      "cell_type": "code",
      "metadata": {
        "colab": {
          "base_uri": "https://localhost:8080/",
          "height": 426
        },
        "id": "BM-LoKpWnSSY",
        "outputId": "034f1880-31f1-4762-a6fe-c915047332fd"
      },
      "source": [
        ""
      ],
      "execution_count": 529,
      "outputs": [
        {
          "output_type": "error",
          "ename": "FileNotFoundError",
          "evalue": "ignored",
          "traceback": [
            "\u001b[0;31m---------------------------------------------------------------------------\u001b[0m",
            "\u001b[0;31mFileNotFoundError\u001b[0m                         Traceback (most recent call last)",
            "\u001b[0;32m/tmp/ipykernel_868/2373124201.py\u001b[0m in \u001b[0;36m<module>\u001b[0;34m\u001b[0m\n\u001b[1;32m      3\u001b[0m                  \u001b[0;34m\"\"\"'{\"query\":\"query MyQuery {\\n users(where: {id: \"\"\"\u001b[0m\u001b[0;34m,\u001b[0m\u001b[0;34m\u001b[0m\u001b[0;34m\u001b[0m\u001b[0m\n\u001b[1;32m      4\u001b[0m                  \u001b[0;34m'''{}\"0x00d5201c4def4d1a199c63e07eac53f43252a0ea{}\"'''\u001b[0m\u001b[0;34m.\u001b[0m\u001b[0mformat\u001b[0m\u001b[0;34m(\u001b[0m\u001b[0;34m\"\\\\\"\u001b[0m\u001b[0;34m,\u001b[0m\u001b[0;34m\"\\\\\"\u001b[0m\u001b[0;34m)\u001b[0m\u001b[0;34m,\u001b[0m\u001b[0;34m\u001b[0m\u001b[0;34m\u001b[0m\u001b[0m\n\u001b[0;32m----> 5\u001b[0;31m                  \u001b[0;34m\"\"\"}) {\\n borrowHistory {\\n borrowRate \\n borrowRateMode \\n amount \\n id \\n timestamp\\n }\\n liquidationCallHistory {\\n collateralAmount \\n id \\n timestamp \\n } \\n} \\n} \\n\"}\"\"\"\u001b[0m\u001b[0;34m\u001b[0m\u001b[0;34m\u001b[0m\u001b[0m\n\u001b[0m\u001b[1;32m      6\u001b[0m ])\n",
            "\u001b[0;32m/usr/lib/python3.7/subprocess.py\u001b[0m in \u001b[0;36mcall\u001b[0;34m(timeout, *popenargs, **kwargs)\u001b[0m\n\u001b[1;32m    337\u001b[0m     \u001b[0mretcode\u001b[0m \u001b[0;34m=\u001b[0m \u001b[0mcall\u001b[0m\u001b[0;34m(\u001b[0m\u001b[0;34m[\u001b[0m\u001b[0;34m\"ls\"\u001b[0m\u001b[0;34m,\u001b[0m \u001b[0;34m\"-l\"\u001b[0m\u001b[0;34m]\u001b[0m\u001b[0;34m)\u001b[0m\u001b[0;34m\u001b[0m\u001b[0;34m\u001b[0m\u001b[0m\n\u001b[1;32m    338\u001b[0m     \"\"\"\n\u001b[0;32m--> 339\u001b[0;31m     \u001b[0;32mwith\u001b[0m \u001b[0mPopen\u001b[0m\u001b[0;34m(\u001b[0m\u001b[0;34m*\u001b[0m\u001b[0mpopenargs\u001b[0m\u001b[0;34m,\u001b[0m \u001b[0;34m**\u001b[0m\u001b[0mkwargs\u001b[0m\u001b[0;34m)\u001b[0m \u001b[0;32mas\u001b[0m \u001b[0mp\u001b[0m\u001b[0;34m:\u001b[0m\u001b[0;34m\u001b[0m\u001b[0;34m\u001b[0m\u001b[0m\n\u001b[0m\u001b[1;32m    340\u001b[0m         \u001b[0;32mtry\u001b[0m\u001b[0;34m:\u001b[0m\u001b[0;34m\u001b[0m\u001b[0;34m\u001b[0m\u001b[0m\n\u001b[1;32m    341\u001b[0m             \u001b[0;32mreturn\u001b[0m \u001b[0mp\u001b[0m\u001b[0;34m.\u001b[0m\u001b[0mwait\u001b[0m\u001b[0;34m(\u001b[0m\u001b[0mtimeout\u001b[0m\u001b[0;34m=\u001b[0m\u001b[0mtimeout\u001b[0m\u001b[0;34m)\u001b[0m\u001b[0;34m\u001b[0m\u001b[0;34m\u001b[0m\u001b[0m\n",
            "\u001b[0;32m/usr/lib/python3.7/subprocess.py\u001b[0m in \u001b[0;36m__init__\u001b[0;34m(self, args, bufsize, executable, stdin, stdout, stderr, preexec_fn, close_fds, shell, cwd, env, universal_newlines, startupinfo, creationflags, restore_signals, start_new_session, pass_fds, encoding, errors, text)\u001b[0m\n\u001b[1;32m    798\u001b[0m                                 \u001b[0mc2pread\u001b[0m\u001b[0;34m,\u001b[0m \u001b[0mc2pwrite\u001b[0m\u001b[0;34m,\u001b[0m\u001b[0;34m\u001b[0m\u001b[0;34m\u001b[0m\u001b[0m\n\u001b[1;32m    799\u001b[0m                                 \u001b[0merrread\u001b[0m\u001b[0;34m,\u001b[0m \u001b[0merrwrite\u001b[0m\u001b[0;34m,\u001b[0m\u001b[0;34m\u001b[0m\u001b[0;34m\u001b[0m\u001b[0m\n\u001b[0;32m--> 800\u001b[0;31m                                 restore_signals, start_new_session)\n\u001b[0m\u001b[1;32m    801\u001b[0m         \u001b[0;32mexcept\u001b[0m\u001b[0;34m:\u001b[0m\u001b[0;34m\u001b[0m\u001b[0;34m\u001b[0m\u001b[0m\n\u001b[1;32m    802\u001b[0m             \u001b[0;31m# Cleanup if the child failed starting.\u001b[0m\u001b[0;34m\u001b[0m\u001b[0;34m\u001b[0m\u001b[0;34m\u001b[0m\u001b[0m\n",
            "\u001b[0;32m/usr/lib/python3.7/subprocess.py\u001b[0m in \u001b[0;36m_execute_child\u001b[0;34m(self, args, executable, preexec_fn, close_fds, pass_fds, cwd, env, startupinfo, creationflags, shell, p2cread, p2cwrite, c2pread, c2pwrite, errread, errwrite, restore_signals, start_new_session)\u001b[0m\n\u001b[1;32m   1549\u001b[0m                         \u001b[0;32mif\u001b[0m \u001b[0merrno_num\u001b[0m \u001b[0;34m==\u001b[0m \u001b[0merrno\u001b[0m\u001b[0;34m.\u001b[0m\u001b[0mENOENT\u001b[0m\u001b[0;34m:\u001b[0m\u001b[0;34m\u001b[0m\u001b[0;34m\u001b[0m\u001b[0m\n\u001b[1;32m   1550\u001b[0m                             \u001b[0merr_msg\u001b[0m \u001b[0;34m+=\u001b[0m \u001b[0;34m': '\u001b[0m \u001b[0;34m+\u001b[0m \u001b[0mrepr\u001b[0m\u001b[0;34m(\u001b[0m\u001b[0merr_filename\u001b[0m\u001b[0;34m)\u001b[0m\u001b[0;34m\u001b[0m\u001b[0;34m\u001b[0m\u001b[0m\n\u001b[0;32m-> 1551\u001b[0;31m                     \u001b[0;32mraise\u001b[0m \u001b[0mchild_exception_type\u001b[0m\u001b[0;34m(\u001b[0m\u001b[0merrno_num\u001b[0m\u001b[0;34m,\u001b[0m \u001b[0merr_msg\u001b[0m\u001b[0;34m,\u001b[0m \u001b[0merr_filename\u001b[0m\u001b[0;34m)\u001b[0m\u001b[0;34m\u001b[0m\u001b[0;34m\u001b[0m\u001b[0m\n\u001b[0m\u001b[1;32m   1552\u001b[0m                 \u001b[0;32mraise\u001b[0m \u001b[0mchild_exception_type\u001b[0m\u001b[0;34m(\u001b[0m\u001b[0merr_msg\u001b[0m\u001b[0;34m)\u001b[0m\u001b[0;34m\u001b[0m\u001b[0;34m\u001b[0m\u001b[0m\n\u001b[1;32m   1553\u001b[0m \u001b[0;34m\u001b[0m\u001b[0m\n",
            "\u001b[0;31mFileNotFoundError\u001b[0m: [Errno 2] No such file or directory: \"curl 'https://api.thegraph.com/subgraphs/name/aave/protocol-v2' --data-binary\": \"curl 'https://api.thegraph.com/subgraphs/name/aave/protocol-v2' --data-binary\""
          ]
        }
      ]
    },
    {
      "cell_type": "code",
      "metadata": {
        "id": "lWNMcgbupivW"
      },
      "source": [
        "graph_call = open(\"thing.sh\", \"w\")\n",
        "address = \"0x00d5201c4def4d1a199c63e07eac53f43252a0ea\"\n",
        "variable = '''curl 'https://api.thegraph.com/subgraphs/name/aave/protocol-v2' --data-binary '{\"query\":\"query MyQuery { users(where: {id: \\\\\"''' + address + '''\\\\\"}) { borrowHistory { borrowRate  borrowRateMode  amount  id  timestamp } liquidationCallHistory { collateralAmount  id  timestamp  } } } \",\"variables\":{}}' > call_data.txt'''\n",
        "graph_call.write(r\"{}\".format(variable))\n",
        "graph_call.close()"
      ],
      "execution_count": 559,
      "outputs": []
    },
    {
      "cell_type": "code",
      "metadata": {
        "colab": {
          "base_uri": "https://localhost:8080/"
        },
        "id": "_pLmX9V6nWlp",
        "outputId": "a2b526fd-76f1-446a-cbc2-55bdc87a02ee"
      },
      "source": [
        "os.system(\"bash thing.sh\")"
      ],
      "execution_count": 560,
      "outputs": [
        {
          "output_type": "stream",
          "name": "stderr",
          "text": [
            "  % Total    % Received % Xferd  Average Speed   Time    Time     Time  Current\n",
            "                                 Dload  Upload   Total   Spent    Left  Speed\n",
            "100  1907    0  1663  100   244   6420    942 --:--:-- --:--:-- --:--:--  7362\n"
          ]
        },
        {
          "output_type": "execute_result",
          "data": {
            "text/plain": [
              "0"
            ]
          },
          "metadata": {},
          "execution_count": 560
        }
      ]
    },
    {
      "cell_type": "code",
      "metadata": {
        "id": "pFADMZzgssCb"
      },
      "source": [
        "data_loading_bay = {\"avg_borrowRate\" : [], \"avg_amount_borrowed\" : [], \"num_borrows\" : [], \"num_prev_defaults\" : [], \"default_this_time\" : []}\n",
        "\n",
        "with open(\"call_data.txt\") as json_file:\n",
        "  all_data = json.load(json_file)\n",
        "  data = all_data[\"data\"]\n",
        "  for user in data[\"users\"]:\n",
        "    if user[\"borrowHistory\"] != []:\n",
        "      num_borrows = 0\n",
        "      total_amount = 0\n",
        "      total_borrowRate = 0\n",
        "      num_prev_defaults = 0\n",
        "      for borrow in user[\"borrowHistory\"]:\n",
        "        num_borrows += 1\n",
        "        total_amount += int(borrow[\"amount\"])\n",
        "        total_borrowRate += int(borrow[\"borrowRate\"])\n",
        "        last_borrow_id = borrow[\"id\"]\n",
        "      if user[\"liquidationCallHistory\"] != []:\n",
        "        for default in user[\"liquidationCallHistory\"]:\n",
        "          num_prev_defaults = 0\n",
        "          for _ in user[\"liquidationCallHistory\"]:\n",
        "            num_prev_defaults += 1\n",
        "          # if default[\"id\"] == last_borrow_id:\n",
        "            default_this_time = 1\n",
        "            # num_prev_defaults -= 1\n",
        "          # else:\n",
        "          #   default_this_time = 0\n",
        "      else:\n",
        "        prev_defaults = 0\n",
        "        default_this_time = 0\n",
        "\n",
        "      data_loading_bay[\"avg_borrowRate\"].append(total_borrowRate / num_borrows)\n",
        "      data_loading_bay[\"avg_amount_borrowed\"].append(total_amount / num_borrows)\n",
        "      data_loading_bay[\"num_borrows\"].append(num_borrows)\n",
        "      data_loading_bay[\"num_prev_defaults\"].append(num_prev_defaults)\n",
        "      data_loading_bay[\"default_this_time\"].append(default_this_time)"
      ],
      "execution_count": 562,
      "outputs": []
    },
    {
      "cell_type": "code",
      "metadata": {
        "colab": {
          "base_uri": "https://localhost:8080/"
        },
        "id": "cGTHggX6r7Or",
        "outputId": "5e4e357a-5263-40be-d43e-b908a6286b96"
      },
      "source": [
        "data_loading_bay"
      ],
      "execution_count": 563,
      "outputs": [
        {
          "output_type": "execute_result",
          "data": {
            "text/plain": [
              "{'avg_borrowRate': [2.428606284450057e+26],\n",
              " 'avg_amount_borrowed': [7.66666666668509e+20],\n",
              " 'num_borrows': [3],\n",
              " 'num_prev_defaults': [7],\n",
              " 'default_this_time': [1]}"
            ]
          },
          "metadata": {},
          "execution_count": 563
        }
      ]
    },
    {
      "cell_type": "code",
      "metadata": {
        "colab": {
          "base_uri": "https://localhost:8080/",
          "height": 119
        },
        "id": "wT9SpuUWuAEX",
        "outputId": "b8e69689-f0df-4ab0-ce36-0581c57539a1"
      },
      "source": [
        "pred_df = pd.DataFrame(pred_data)\n",
        "pred_df_true = pred_df_true.squeeze()\n",
        "learn.predict(pred_df_true)"
      ],
      "execution_count": 564,
      "outputs": [
        {
          "output_type": "display_data",
          "data": {
            "text/html": [
              ""
            ],
            "text/plain": [
              "<IPython.core.display.HTML object>"
            ]
          },
          "metadata": {}
        },
        {
          "output_type": "execute_result",
          "data": {
            "text/plain": [
              "(   avg_borrowRate  avg_amount_borrowed  ...  num_prev_defaults  default_this_time\n",
              " 0            -0.0                 -0.0  ...          -0.135104           0.977199\n",
              " \n",
              " [1 rows x 5 columns],\n",
              " tensor([0.9772]),\n",
              " tensor([0.9772]))"
            ]
          },
          "metadata": {},
          "execution_count": 564
        }
      ]
    },
    {
      "cell_type": "code",
      "metadata": {
        "id": "iAzQ-gXQuZjT"
      },
      "source": [
        ""
      ],
      "execution_count": null,
      "outputs": []
    }
  ]
}